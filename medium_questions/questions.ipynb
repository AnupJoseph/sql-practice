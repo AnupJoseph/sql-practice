{
 "cells": [
  {
   "cell_type": "code",
   "execution_count": 1,
   "metadata": {},
   "outputs": [],
   "source": [
    "import duckdb"
   ]
  },
  {
   "attachments": {},
   "cell_type": "markdown",
   "metadata": {},
   "source": [
    "### Question 1\n",
    "We need to find player with no of gold medals won by them only for players who won only gold medals."
   ]
  },
  {
   "cell_type": "code",
   "execution_count": 5,
   "metadata": {},
   "outputs": [
    {
     "name": "stdout",
     "output_type": "stream",
     "text": [
      "┌───────┬─────────┬───────┬──────────────────┬──────────────┬─────────────┐\n",
      "│  ID   │  event  │ YEAR  │       GOLD       │    SILVER    │   BRONZE    │\n",
      "│ int32 │ varchar │ int32 │     varchar      │   varchar    │   varchar   │\n",
      "├───────┼─────────┼───────┼──────────────────┼──────────────┼─────────────┤\n",
      "│     1 │ 100m    │  2016 │ Amthhew Mcgarray │ donald       │ barbara     │\n",
      "│     2 │ 200m    │  2016 │ Nichole          │ Alvaro Eaton │ janet Smith │\n",
      "│     3 │ 500m    │  2016 │ Charles          │ Nichole      │ Susana      │\n",
      "│     4 │ 100m    │  2016 │ Ronald           │ maria        │ paula       │\n",
      "│     5 │ 200m    │  2016 │ Alfred           │ carol        │ Steven      │\n",
      "│     6 │ 500m    │  2016 │ Nichole          │ Alfred       │ Brandon     │\n",
      "│     7 │ 100m    │  2016 │ Charles          │ Dennis       │ Susana      │\n",
      "│     8 │ 200m    │  2016 │ Thomas           │ Dawn         │ catherine   │\n",
      "│     9 │ 500m    │  2016 │ Thomas           │ Dennis       │ paula       │\n",
      "│    10 │ 100m    │  2016 │ Charles          │ Dennis       │ Susana      │\n",
      "│    11 │ 200m    │  2016 │ jessica          │ Donald       │ Stefeney    │\n",
      "│    12 │ 500m    │  2016 │ Thomas           │ Steven       │ Catherine   │\n",
      "├───────┴─────────┴───────┴──────────────────┴──────────────┴─────────────┤\n",
      "│ 12 rows                                                       6 columns │\n",
      "└─────────────────────────────────────────────────────────────────────────┘\n",
      "\n"
     ]
    }
   ],
   "source": [
    "query = \"\"\"\n",
    "CREATE TABLE events (\n",
    "ID int,\n",
    "event varchar(255),\n",
    "YEAR INt,\n",
    "GOLD varchar(255),\n",
    "SILVER varchar(255),\n",
    "BRONZE varchar(255)\n",
    ");\n",
    "\n",
    "delete from events;\n",
    "\n",
    "INSERT INTO events VALUES (1,'100m',2016, 'Amthhew Mcgarray','donald','barbara');\n",
    "INSERT INTO events VALUES (2,'200m',2016, 'Nichole','Alvaro Eaton','janet Smith');\n",
    "INSERT INTO events VALUES (3,'500m',2016, 'Charles','Nichole','Susana');\n",
    "INSERT INTO events VALUES (4,'100m',2016, 'Ronald','maria','paula');\n",
    "INSERT INTO events VALUES (5,'200m',2016, 'Alfred','carol','Steven');\n",
    "INSERT INTO events VALUES (6,'500m',2016, 'Nichole','Alfred','Brandon');\n",
    "INSERT INTO events VALUES (7,'100m',2016, 'Charles','Dennis','Susana');\n",
    "INSERT INTO events VALUES (8,'200m',2016, 'Thomas','Dawn','catherine');\n",
    "INSERT INTO events VALUES (9,'500m',2016, 'Thomas','Dennis','paula');\n",
    "INSERT INTO events VALUES (10,'100m',2016, 'Charles','Dennis','Susana');\n",
    "INSERT INTO events VALUES (11,'200m',2016, 'jessica','Donald','Stefeney');\n",
    "INSERT INTO events VALUES (12,'500m',2016,'Thomas','Steven','Catherine');\"\"\"\n",
    "duckdb.execute(query)\n",
    "query = \"\"\"SELECT * FROM events\"\"\"\n",
    "duckdb.sql(query).show()"
   ]
  },
  {
   "cell_type": "code",
   "execution_count": 16,
   "metadata": {},
   "outputs": [
    {
     "name": "stdout",
     "output_type": "stream",
     "text": [
      "┌──────────────────┬──────────────┐\n",
      "│       GOLD       │ count_star() │\n",
      "│     varchar      │    int64     │\n",
      "├──────────────────┼──────────────┤\n",
      "│ Amthhew Mcgarray │            1 │\n",
      "│ Charles          │            3 │\n",
      "│ Ronald           │            1 │\n",
      "│ Thomas           │            3 │\n",
      "│ jessica          │            1 │\n",
      "└──────────────────┴──────────────┘\n",
      "\n"
     ]
    }
   ],
   "source": [
    "query = \"\"\"\n",
    "WITH only_gold AS (\n",
    "    SELECT GOLD\n",
    "    FROM events\n",
    "    EXCEPT\n",
    "    SELECT SILVER\n",
    "    FROM events\n",
    "    EXCEPT\n",
    "    SELECT BRONZE\n",
    "    FROM events\n",
    ")\n",
    "SELECT events.GOLD,\n",
    "    COUNT(*)\n",
    "FROM events\n",
    "    INNER JOIN only_gold ON events.GOLD = only_gold.GOLD\n",
    "GROUP BY events.GOLD\n",
    "\"\"\"\n",
    "duckdb.sql(query).show()"
   ]
  },
  {
   "cell_type": "code",
   "execution_count": null,
   "metadata": {},
   "outputs": [],
   "source": []
  }
 ],
 "metadata": {
  "kernelspec": {
   "display_name": "Python 3",
   "language": "python",
   "name": "python3"
  },
  "language_info": {
   "codemirror_mode": {
    "name": "ipython",
    "version": 3
   },
   "file_extension": ".py",
   "mimetype": "text/x-python",
   "name": "python",
   "nbconvert_exporter": "python",
   "pygments_lexer": "ipython3",
   "version": "3.8.16"
  },
  "orig_nbformat": 4
 },
 "nbformat": 4,
 "nbformat_minor": 2
}

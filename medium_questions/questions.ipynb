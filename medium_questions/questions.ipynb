{
 "cells": [
  {
   "cell_type": "code",
   "execution_count": 1,
   "metadata": {},
   "outputs": [],
   "source": [
    "import duckdb"
   ]
  },
  {
   "attachments": {},
   "cell_type": "markdown",
   "metadata": {},
   "source": [
    "### Question 1\n",
    "\n",
    "We need to find player with no of gold medals won by them only for players who won only gold medals.\n"
   ]
  },
  {
   "cell_type": "code",
   "execution_count": 2,
   "metadata": {},
   "outputs": [
    {
     "name": "stdout",
     "output_type": "stream",
     "text": [
      "┌───────┬─────────┬───────┬──────────────────┬──────────────┬─────────────┐\n",
      "│  ID   │  event  │ YEAR  │       GOLD       │    SILVER    │   BRONZE    │\n",
      "│ int32 │ varchar │ int32 │     varchar      │   varchar    │   varchar   │\n",
      "├───────┼─────────┼───────┼──────────────────┼──────────────┼─────────────┤\n",
      "│     1 │ 100m    │  2016 │ Amthhew Mcgarray │ donald       │ barbara     │\n",
      "│     2 │ 200m    │  2016 │ Nichole          │ Alvaro Eaton │ janet Smith │\n",
      "│     3 │ 500m    │  2016 │ Charles          │ Nichole      │ Susana      │\n",
      "│     4 │ 100m    │  2016 │ Ronald           │ maria        │ paula       │\n",
      "│     5 │ 200m    │  2016 │ Alfred           │ carol        │ Steven      │\n",
      "│     6 │ 500m    │  2016 │ Nichole          │ Alfred       │ Brandon     │\n",
      "│     7 │ 100m    │  2016 │ Charles          │ Dennis       │ Susana      │\n",
      "│     8 │ 200m    │  2016 │ Thomas           │ Dawn         │ catherine   │\n",
      "│     9 │ 500m    │  2016 │ Thomas           │ Dennis       │ paula       │\n",
      "│    10 │ 100m    │  2016 │ Charles          │ Dennis       │ Susana      │\n",
      "│    11 │ 200m    │  2016 │ jessica          │ Donald       │ Stefeney    │\n",
      "│    12 │ 500m    │  2016 │ Thomas           │ Steven       │ Catherine   │\n",
      "├───────┴─────────┴───────┴──────────────────┴──────────────┴─────────────┤\n",
      "│ 12 rows                                                       6 columns │\n",
      "└─────────────────────────────────────────────────────────────────────────┘\n",
      "\n"
     ]
    }
   ],
   "source": [
    "query = \"\"\"\n",
    "CREATE TABLE events (\n",
    "ID int,\n",
    "event varchar(255),\n",
    "YEAR INt,\n",
    "GOLD varchar(255),\n",
    "SILVER varchar(255),\n",
    "BRONZE varchar(255)\n",
    ");\n",
    "\n",
    "delete from events;\n",
    "\n",
    "INSERT INTO events VALUES (1,'100m',2016, 'Amthhew Mcgarray','donald','barbara');\n",
    "INSERT INTO events VALUES (2,'200m',2016, 'Nichole','Alvaro Eaton','janet Smith');\n",
    "INSERT INTO events VALUES (3,'500m',2016, 'Charles','Nichole','Susana');\n",
    "INSERT INTO events VALUES (4,'100m',2016, 'Ronald','maria','paula');\n",
    "INSERT INTO events VALUES (5,'200m',2016, 'Alfred','carol','Steven');\n",
    "INSERT INTO events VALUES (6,'500m',2016, 'Nichole','Alfred','Brandon');\n",
    "INSERT INTO events VALUES (7,'100m',2016, 'Charles','Dennis','Susana');\n",
    "INSERT INTO events VALUES (8,'200m',2016, 'Thomas','Dawn','catherine');\n",
    "INSERT INTO events VALUES (9,'500m',2016, 'Thomas','Dennis','paula');\n",
    "INSERT INTO events VALUES (10,'100m',2016, 'Charles','Dennis','Susana');\n",
    "INSERT INTO events VALUES (11,'200m',2016, 'jessica','Donald','Stefeney');\n",
    "INSERT INTO events VALUES (12,'500m',2016,'Thomas','Steven','Catherine');\"\"\"\n",
    "duckdb.execute(query)\n",
    "query = \"\"\"SELECT * FROM events\"\"\"\n",
    "duckdb.sql(query).show()"
   ]
  },
  {
   "attachments": {},
   "cell_type": "markdown",
   "metadata": {},
   "source": [
    "#### Solution\n"
   ]
  },
  {
   "cell_type": "code",
   "execution_count": 3,
   "metadata": {},
   "outputs": [
    {
     "name": "stdout",
     "output_type": "stream",
     "text": [
      "┌──────────────────┬──────────────┐\n",
      "│       GOLD       │ count_star() │\n",
      "│     varchar      │    int64     │\n",
      "├──────────────────┼──────────────┤\n",
      "│ Amthhew Mcgarray │            1 │\n",
      "│ Charles          │            3 │\n",
      "│ Ronald           │            1 │\n",
      "│ Thomas           │            3 │\n",
      "│ jessica          │            1 │\n",
      "└──────────────────┴──────────────┘\n",
      "\n"
     ]
    }
   ],
   "source": [
    "query = \"\"\"\n",
    "SELECT GOLD,COUNT(*) FROM events \n",
    "WHERE GOLD NOT IN (SELECT BRONZE FROM events UNION ALL SELECT SILVER FROM events)\n",
    "GROUP BY GOLD\n",
    "\"\"\"\n",
    "\n",
    "duckdb.sql(query).show()"
   ]
  },
  {
   "attachments": {},
   "cell_type": "markdown",
   "metadata": {},
   "source": [
    "#### Alternative Solution\n"
   ]
  },
  {
   "cell_type": "code",
   "execution_count": 4,
   "metadata": {},
   "outputs": [
    {
     "name": "stdout",
     "output_type": "stream",
     "text": [
      "┌──────────────────┬──────────────┐\n",
      "│       GOLD       │ count_star() │\n",
      "│     varchar      │    int64     │\n",
      "├──────────────────┼──────────────┤\n",
      "│ Amthhew Mcgarray │            1 │\n",
      "│ Charles          │            3 │\n",
      "│ Ronald           │            1 │\n",
      "│ Thomas           │            3 │\n",
      "│ jessica          │            1 │\n",
      "└──────────────────┴──────────────┘\n",
      "\n"
     ]
    }
   ],
   "source": [
    "query = \"\"\"\n",
    "WITH only_gold AS (\n",
    "    SELECT GOLD\n",
    "    FROM events\n",
    "    EXCEPT\n",
    "    SELECT SILVER\n",
    "    FROM events\n",
    "    EXCEPT\n",
    "    SELECT BRONZE\n",
    "    FROM events\n",
    ")\n",
    "SELECT events.GOLD,\n",
    "    COUNT(*)\n",
    "FROM events\n",
    "    INNER JOIN only_gold ON events.GOLD = only_gold.GOLD\n",
    "GROUP BY events.GOLD\n",
    "\"\"\"\n",
    "duckdb.sql(query).show()"
   ]
  },
  {
   "attachments": {},
   "cell_type": "markdown",
   "metadata": {},
   "source": [
    "### Question 2\n",
    "\n",
    "We need to find difference between 2 dates excluding weekends and public holidays . Basically we need to find business days between 2 given dates using SQL\n"
   ]
  },
  {
   "cell_type": "code",
   "execution_count": null,
   "metadata": {},
   "outputs": [],
   "source": [
    "query = \"\"\"\n",
    "create table tickets\n",
    "(\n",
    "ticket_id varchar(10),\n",
    "create_date date,\n",
    "resolved_date date\n",
    ");\n",
    "delete from tickets;\n",
    "insert into tickets values\n",
    "(1,'2022-08-01','2022-08-03')\n",
    ",(2,'2022-08-01','2022-08-12')\n",
    ",(3,'2022-08-01','2022-08-16');\n",
    "create table holidays\n",
    "(\n",
    "holiday_date date\n",
    ",reason varchar(100)\n",
    ");\n",
    "delete from holidays;\n",
    "insert into holidays values\n",
    "('2022-08-11','Rakhi'),('2022-08-15','Independence day');\n",
    "\"\"\"\n",
    "duckdb.sql(query)"
   ]
  },
  {
   "cell_type": "code",
   "execution_count": 7,
   "metadata": {},
   "outputs": [
    {
     "name": "stdout",
     "output_type": "stream",
     "text": [
      "┌───────────┬─────────────┬───────────────┐\n",
      "│ ticket_id │ create_date │ resolved_date │\n",
      "│  varchar  │    date     │     date      │\n",
      "├───────────┼─────────────┼───────────────┤\n",
      "│ 1         │ 2022-08-01  │ 2022-08-03    │\n",
      "│ 2         │ 2022-08-01  │ 2022-08-12    │\n",
      "│ 3         │ 2022-08-01  │ 2022-08-16    │\n",
      "└───────────┴─────────────┴───────────────┘\n",
      "\n"
     ]
    }
   ],
   "source": [
    "query=\"SELECT * FROM tickets\"\"\"\n",
    "duckdb.sql(query).show()"
   ]
  },
  {
   "cell_type": "code",
   "execution_count": 8,
   "metadata": {},
   "outputs": [
    {
     "name": "stdout",
     "output_type": "stream",
     "text": [
      "┌──────────────┬──────────────────┐\n",
      "│ holiday_date │      reason      │\n",
      "│     date     │     varchar      │\n",
      "├──────────────┼──────────────────┤\n",
      "│ 2022-08-11   │ Rakhi            │\n",
      "│ 2022-08-15   │ Independence day │\n",
      "└──────────────┴──────────────────┘\n",
      "\n"
     ]
    }
   ],
   "source": [
    "query=\"SELECT * FROM holidays\"\"\"\n",
    "duckdb.sql(query).show()"
   ]
  },
  {
   "attachments": {},
   "cell_type": "markdown",
   "metadata": {},
   "source": [
    "#### Solution\n",
    "\n",
    "Trickier than I initially assumed. The concept of `JOIN` on dates with an `IN` condition requires an amount of practice\n"
   ]
  },
  {
   "cell_type": "code",
   "execution_count": 20,
   "metadata": {},
   "outputs": [
    {
     "name": "stdout",
     "output_type": "stream",
     "text": [
      "┌───────────────┐\n",
      "│ business_days │\n",
      "│     int64     │\n",
      "├───────────────┤\n",
      "│             2 │\n",
      "│             8 │\n",
      "│             9 │\n",
      "└───────────────┘\n",
      "\n"
     ]
    }
   ],
   "source": [
    "query = \"\"\"\n",
    "SELECT (\n",
    "        DATE_DIFF('day', t.create_date, t.resolved_date) - (\n",
    "            DATE_DIFF('week', t.create_date, t.resolved_date) * 2\n",
    "        ) - COUNT(h.holiday_date)\n",
    "    ) AS business_days\n",
    "FROM tickets AS t\n",
    "    LEFT JOIN holidays AS h ON h.holiday_date BETWEEN t.create_date AND t.resolved_date\n",
    "GROUP BY t.create_date,\n",
    "    t.resolved_date\n",
    "\"\"\"\n",
    "duckdb.sql(query).show()\n"
   ]
  },
  {
   "attachments": {},
   "cell_type": "markdown",
   "metadata": {},
   "source": [
    "### Question 3\n",
    "\n",
    "We need to find number of employees inside the hospital.\n"
   ]
  },
  {
   "cell_type": "code",
   "execution_count": 2,
   "metadata": {},
   "outputs": [
    {
     "name": "stdout",
     "output_type": "stream",
     "text": [
      "┌────────┬─────────┬─────────────────────┐\n",
      "│ emp_id │ action  │        time         │\n",
      "│ int32  │ varchar │      timestamp      │\n",
      "├────────┼─────────┼─────────────────────┤\n",
      "│      1 │ in      │ 2019-12-22 09:00:00 │\n",
      "│      1 │ out     │ 2019-12-22 09:15:00 │\n",
      "│      2 │ in      │ 2019-12-22 09:00:00 │\n",
      "│      2 │ out     │ 2019-12-22 09:15:00 │\n",
      "│      2 │ in      │ 2019-12-22 09:30:00 │\n",
      "│      3 │ out     │ 2019-12-22 09:00:00 │\n",
      "│      3 │ in      │ 2019-12-22 09:15:00 │\n",
      "│      3 │ out     │ 2019-12-22 09:30:00 │\n",
      "│      3 │ in      │ 2019-12-22 09:45:00 │\n",
      "│      4 │ in      │ 2019-12-22 09:45:00 │\n",
      "│      5 │ out     │ 2019-12-22 09:40:00 │\n",
      "├────────┴─────────┴─────────────────────┤\n",
      "│ 11 rows                      3 columns │\n",
      "└────────────────────────────────────────┘\n",
      "\n"
     ]
    }
   ],
   "source": [
    "query = \"\"\"\n",
    "create table hospital ( emp_id int\n",
    ", action varchar(10)\n",
    ", time datetime);\n",
    "\n",
    "insert into hospital values ('1', 'in', '2019-12-22 09:00:00');\n",
    "insert into hospital values ('1', 'out', '2019-12-22 09:15:00');\n",
    "insert into hospital values ('2', 'in', '2019-12-22 09:00:00');\n",
    "insert into hospital values ('2', 'out', '2019-12-22 09:15:00');\n",
    "insert into hospital values ('2', 'in', '2019-12-22 09:30:00');\n",
    "insert into hospital values ('3', 'out', '2019-12-22 09:00:00');\n",
    "insert into hospital values ('3', 'in', '2019-12-22 09:15:00');\n",
    "insert into hospital values ('3', 'out', '2019-12-22 09:30:00');\n",
    "insert into hospital values ('3', 'in', '2019-12-22 09:45:00');\n",
    "insert into hospital values ('4', 'in', '2019-12-22 09:45:00');\n",
    "insert into hospital values ('5', 'out', '2019-12-22 09:40:00');\n",
    "\"\"\"\n",
    "duckdb.sql(query)\n",
    "\n",
    "query = \"\"\"SELECT * FROM hospital\"\"\"\n",
    "duckdb.sql(query).show()"
   ]
  },
  {
   "attachments": {},
   "cell_type": "markdown",
   "metadata": {},
   "source": [
    "##### Solution\n",
    "\n",
    "A combination of CTEs with window functions does the trick pretty well\n"
   ]
  },
  {
   "cell_type": "code",
   "execution_count": 14,
   "metadata": {},
   "outputs": [
    {
     "name": "stdout",
     "output_type": "stream",
     "text": [
      "┌────────┬─────────┬─────────────────────┬───────┐\n",
      "│ emp_id │ action  │        time         │  rn   │\n",
      "│ int32  │ varchar │      timestamp      │ int64 │\n",
      "├────────┼─────────┼─────────────────────┼───────┤\n",
      "│      2 │ in      │ 2019-12-22 09:30:00 │     1 │\n",
      "│      3 │ in      │ 2019-12-22 09:45:00 │     1 │\n",
      "│      4 │ in      │ 2019-12-22 09:45:00 │     1 │\n",
      "└────────┴─────────┴─────────────────────┴───────┘\n",
      "\n"
     ]
    }
   ],
   "source": [
    "query = \"\"\"\n",
    "WITH ranked_attendance AS (\n",
    "    SELECT h.*,\n",
    "        ROW_NUMBER() OVER (\n",
    "            PARTITION BY emp_id\n",
    "            ORDER BY time DESC\n",
    "        ) AS rn\n",
    "    FROM hospital AS h\n",
    ")\n",
    "SELECT *\n",
    "FROM ranked_attendance\n",
    "WHERE rn = 1\n",
    "    AND action = 'in';\n",
    "\"\"\"\n",
    "duckdb.sql(query).show()"
   ]
  },
  {
   "attachments": {},
   "cell_type": "markdown",
   "metadata": {},
   "source": [
    "### Question 4\n",
    "\n",
    "Write query to return all employees whose salary is same in same department"
   ]
  },
  {
   "cell_type": "code",
   "execution_count": 9,
   "metadata": {},
   "outputs": [
    {
     "name": "stdout",
     "output_type": "stream",
     "text": [
      "┌────────┬─────────┬─────────┬─────────┐\n",
      "│ emp_id │  name   │ salary  │ dept_id │\n",
      "│ int32  │ varchar │ varchar │  int32  │\n",
      "├────────┼─────────┼─────────┼─────────┤\n",
      "│    101 │ sohan   │ 3000    │      11 │\n",
      "│    102 │ rohan   │ 4000    │      12 │\n",
      "│    103 │ mohan   │ 5000    │      13 │\n",
      "│    104 │ cat     │ 3000    │      11 │\n",
      "│    105 │ suresh  │ 4000    │      12 │\n",
      "│    109 │ mahesh  │ 7000    │      12 │\n",
      "│    108 │ kamal   │ 8000    │      11 │\n",
      "└────────┴─────────┴─────────┴─────────┘\n",
      "\n"
     ]
    }
   ],
   "source": [
    "query = \"\"\"\n",
    "CREATE TABLE emp_salary\n",
    "(\n",
    "    emp_id INTEGER  NOT NULL,\n",
    "    name NVARCHAR(20)  NOT NULL,\n",
    "    salary NVARCHAR(30),\n",
    "    dept_id INTEGER\n",
    ");\n",
    "\n",
    "\n",
    "INSERT INTO emp_salary\n",
    "(emp_id, name, salary, dept_id)\n",
    "VALUES(101, 'sohan', '3000', '11'),\n",
    "(102, 'rohan', '4000', '12'),\n",
    "(103, 'mohan', '5000', '13'),\n",
    "(104, 'cat', '3000', '11'),\n",
    "(105, 'suresh', '4000', '12'),\n",
    "(109, 'mahesh', '7000', '12'),\n",
    "(108, 'kamal', '8000', '11');\n",
    "\"\"\"\n",
    "duckdb.sql(query)\n",
    "\n",
    "query = \"\"\"SELECT * FROM emp_salary\"\"\"\n",
    "duckdb.sql(query).show()"
   ]
  },
  {
   "attachments": {},
   "cell_type": "markdown",
   "metadata": {},
   "source": [
    "Rather simple INNER JOIN at the end of the day"
   ]
  },
  {
   "cell_type": "code",
   "execution_count": 25,
   "metadata": {},
   "outputs": [
    {
     "name": "stdout",
     "output_type": "stream",
     "text": [
      "┌────────┬─────────┬────────┬─────────┐\n",
      "│ emp_id │  name   │ emp_id │  name   │\n",
      "│ int32  │ varchar │ int32  │ varchar │\n",
      "├────────┼─────────┼────────┼─────────┤\n",
      "│    104 │ cat     │    101 │ sohan   │\n",
      "│    105 │ suresh  │    102 │ rohan   │\n",
      "└────────┴─────────┴────────┴─────────┘\n",
      "\n"
     ]
    }
   ],
   "source": [
    "query = \"\"\"\n",
    "SELECT e.emp_id,\n",
    "    e.name,\n",
    "    ef.emp_id,\n",
    "    ef.name\n",
    "FROM emp_salary AS e\n",
    "    INNER JOIN emp_salary as ef ON e.salary = ef.salary\n",
    "    AND e.dept_id = ef.dept_id\n",
    "    AND e.emp_id > ef.emp_id\n",
    "\"\"\"\n",
    "duckdb.sql(query).show()"
   ]
  },
  {
   "cell_type": "code",
   "execution_count": null,
   "metadata": {},
   "outputs": [],
   "source": [
    "query = \"\"\"\n",
    "\n",
    "\"\"\"\n",
    "duckdb.sql(query)\n",
    "\n",
    "\n",
    "query = \"SELECT * FROM \"\n",
    "duckdb.sql(query).show()"
   ]
  }
 ],
 "metadata": {
  "kernelspec": {
   "display_name": "Python 3",
   "language": "python",
   "name": "python3"
  },
  "language_info": {
   "codemirror_mode": {
    "name": "ipython",
    "version": 3
   },
   "file_extension": ".py",
   "mimetype": "text/x-python",
   "name": "python",
   "nbconvert_exporter": "python",
   "pygments_lexer": "ipython3",
   "version": "3.8.16"
  },
  "orig_nbformat": 4
 },
 "nbformat": 4,
 "nbformat_minor": 2
}

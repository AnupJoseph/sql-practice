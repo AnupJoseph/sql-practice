{
 "cells": [
  {
   "cell_type": "code",
   "execution_count": 20,
   "metadata": {},
   "outputs": [],
   "source": [
    "import duckdb"
   ]
  },
  {
   "attachments": {},
   "cell_type": "markdown",
   "metadata": {},
   "source": [
    "### Question 1\n",
    "We need to find player with no of gold medals won by them only for players who won only gold medals."
   ]
  },
  {
   "cell_type": "code",
   "execution_count": 21,
   "metadata": {},
   "outputs": [
    {
     "ename": "CatalogException",
     "evalue": "Catalog Error: Table with name \"events\" already exists!",
     "output_type": "error",
     "traceback": [
      "\u001b[0;31m---------------------------------------------------------------------------\u001b[0m",
      "\u001b[0;31mCatalogException\u001b[0m                          Traceback (most recent call last)",
      "Cell \u001b[0;32mIn[21], line 25\u001b[0m\n\u001b[1;32m      1\u001b[0m query \u001b[39m=\u001b[39m \u001b[39m\"\"\"\u001b[39m\n\u001b[1;32m      2\u001b[0m \u001b[39mCREATE TABLE events (\u001b[39m\n\u001b[1;32m      3\u001b[0m \u001b[39mID int,\u001b[39m\n\u001b[0;32m   (...)\u001b[0m\n\u001b[1;32m     23\u001b[0m \u001b[39mINSERT INTO events VALUES (11,\u001b[39m\u001b[39m'\u001b[39m\u001b[39m200m\u001b[39m\u001b[39m'\u001b[39m\u001b[39m,2016, \u001b[39m\u001b[39m'\u001b[39m\u001b[39mjessica\u001b[39m\u001b[39m'\u001b[39m\u001b[39m,\u001b[39m\u001b[39m'\u001b[39m\u001b[39mDonald\u001b[39m\u001b[39m'\u001b[39m\u001b[39m,\u001b[39m\u001b[39m'\u001b[39m\u001b[39mStefeney\u001b[39m\u001b[39m'\u001b[39m\u001b[39m);\u001b[39m\n\u001b[1;32m     24\u001b[0m \u001b[39mINSERT INTO events VALUES (12,\u001b[39m\u001b[39m'\u001b[39m\u001b[39m500m\u001b[39m\u001b[39m'\u001b[39m\u001b[39m,2016,\u001b[39m\u001b[39m'\u001b[39m\u001b[39mThomas\u001b[39m\u001b[39m'\u001b[39m\u001b[39m,\u001b[39m\u001b[39m'\u001b[39m\u001b[39mSteven\u001b[39m\u001b[39m'\u001b[39m\u001b[39m,\u001b[39m\u001b[39m'\u001b[39m\u001b[39mCatherine\u001b[39m\u001b[39m'\u001b[39m\u001b[39m);\u001b[39m\u001b[39m\"\"\"\u001b[39m\n\u001b[0;32m---> 25\u001b[0m duckdb\u001b[39m.\u001b[39;49mexecute(query)\n\u001b[1;32m     26\u001b[0m query \u001b[39m=\u001b[39m \u001b[39m\"\"\"\u001b[39m\u001b[39mSELECT * FROM events\u001b[39m\u001b[39m\"\"\"\u001b[39m\n\u001b[1;32m     27\u001b[0m duckdb\u001b[39m.\u001b[39msql(query)\u001b[39m.\u001b[39mshow()\n",
      "\u001b[0;31mCatalogException\u001b[0m: Catalog Error: Table with name \"events\" already exists!"
     ]
    }
   ],
   "source": [
    "query = \"\"\"\n",
    "CREATE TABLE events (\n",
    "ID int,\n",
    "event varchar(255),\n",
    "YEAR INt,\n",
    "GOLD varchar(255),\n",
    "SILVER varchar(255),\n",
    "BRONZE varchar(255)\n",
    ");\n",
    "\n",
    "delete from events;\n",
    "\n",
    "INSERT INTO events VALUES (1,'100m',2016, 'Amthhew Mcgarray','donald','barbara');\n",
    "INSERT INTO events VALUES (2,'200m',2016, 'Nichole','Alvaro Eaton','janet Smith');\n",
    "INSERT INTO events VALUES (3,'500m',2016, 'Charles','Nichole','Susana');\n",
    "INSERT INTO events VALUES (4,'100m',2016, 'Ronald','maria','paula');\n",
    "INSERT INTO events VALUES (5,'200m',2016, 'Alfred','carol','Steven');\n",
    "INSERT INTO events VALUES (6,'500m',2016, 'Nichole','Alfred','Brandon');\n",
    "INSERT INTO events VALUES (7,'100m',2016, 'Charles','Dennis','Susana');\n",
    "INSERT INTO events VALUES (8,'200m',2016, 'Thomas','Dawn','catherine');\n",
    "INSERT INTO events VALUES (9,'500m',2016, 'Thomas','Dennis','paula');\n",
    "INSERT INTO events VALUES (10,'100m',2016, 'Charles','Dennis','Susana');\n",
    "INSERT INTO events VALUES (11,'200m',2016, 'jessica','Donald','Stefeney');\n",
    "INSERT INTO events VALUES (12,'500m',2016,'Thomas','Steven','Catherine');\"\"\"\n",
    "duckdb.execute(query)\n",
    "query = \"\"\"SELECT * FROM events\"\"\"\n",
    "duckdb.sql(query).show()"
   ]
  },
  {
   "attachments": {},
   "cell_type": "markdown",
   "metadata": {},
   "source": [
    "#### Solution"
   ]
  },
  {
   "cell_type": "code",
   "execution_count": null,
   "metadata": {},
   "outputs": [
    {
     "name": "stdout",
     "output_type": "stream",
     "text": [
      "┌──────────────────┬──────────────┐\n",
      "│       GOLD       │ count_star() │\n",
      "│     varchar      │    int64     │\n",
      "├──────────────────┼──────────────┤\n",
      "│ Amthhew Mcgarray │            1 │\n",
      "│ Charles          │            3 │\n",
      "│ Ronald           │            1 │\n",
      "│ Thomas           │            3 │\n",
      "│ jessica          │            1 │\n",
      "└──────────────────┴──────────────┘\n",
      "\n"
     ]
    }
   ],
   "source": [
    "query = \"\"\"\n",
    "SELECT GOLD,COUNT(*) FROM events \n",
    "WHERE GOLD NOT IN (SELECT BRONZE FROM events UNION ALL SELECT SILVER FROM events)\n",
    "GROUP BY GOLD\n",
    "\"\"\"\n",
    "\n",
    "duckdb.sql(query).show()"
   ]
  },
  {
   "attachments": {},
   "cell_type": "markdown",
   "metadata": {},
   "source": [
    "#### Alternative Solution"
   ]
  },
  {
   "cell_type": "code",
   "execution_count": null,
   "metadata": {},
   "outputs": [
    {
     "name": "stdout",
     "output_type": "stream",
     "text": [
      "┌──────────────────┬──────────────┐\n",
      "│       GOLD       │ count_star() │\n",
      "│     varchar      │    int64     │\n",
      "├──────────────────┼──────────────┤\n",
      "│ Amthhew Mcgarray │            1 │\n",
      "│ Charles          │            3 │\n",
      "│ Ronald           │            1 │\n",
      "│ Thomas           │            3 │\n",
      "│ jessica          │            1 │\n",
      "└──────────────────┴──────────────┘\n",
      "\n"
     ]
    }
   ],
   "source": [
    "query = \"\"\"\n",
    "WITH only_gold AS (\n",
    "    SELECT GOLD\n",
    "    FROM events\n",
    "    EXCEPT\n",
    "    SELECT SILVER\n",
    "    FROM events\n",
    "    EXCEPT\n",
    "    SELECT BRONZE\n",
    "    FROM events\n",
    ")\n",
    "SELECT events.GOLD,\n",
    "    COUNT(*)\n",
    "FROM events\n",
    "    INNER JOIN only_gold ON events.GOLD = only_gold.GOLD\n",
    "GROUP BY events.GOLD\n",
    "\"\"\"\n",
    "duckdb.sql(query).show()"
   ]
  }
 ],
 "metadata": {
  "kernelspec": {
   "display_name": "Python 3",
   "language": "python",
   "name": "python3"
  },
  "language_info": {
   "codemirror_mode": {
    "name": "ipython",
    "version": 3
   },
   "file_extension": ".py",
   "mimetype": "text/x-python",
   "name": "python",
   "nbconvert_exporter": "python",
   "pygments_lexer": "ipython3",
   "version": "3.8.16"
  },
  "orig_nbformat": 4
 },
 "nbformat": 4,
 "nbformat_minor": 2
}

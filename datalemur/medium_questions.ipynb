{
 "cells": [
  {
   "attachments": {},
   "cell_type": "markdown",
   "metadata": {},
   "source": [
    "## Top 5 Songs"
   ]
  },
  {
   "cell_type": "code",
   "execution_count": null,
   "metadata": {},
   "outputs": [],
   "source": [
    "%sql\n",
    "\n",
    "SELECT artist_name,\n",
    "    6 - rank AS fin_rank\n",
    "FROM(\n",
    "        SELECT a.artist_name,\n",
    "            COUNT(to_ranks.artist_id) AS rank\n",
    "        FROM (\n",
    "                SELECT g.song_id,\n",
    "                    g.rank,\n",
    "                    s.artist_id\n",
    "                FROM global_song_rank AS g\n",
    "                    INNER JOIN songs AS s ON g.song_id = s.song_id\n",
    "                WHERE g.rank <= 10\n",
    "            ) AS to_ranks\n",
    "            INNER JOIN artists AS a ON to_ranks.artist_id = a.artist_id\n",
    "        GROUP BY to_ranks.artist_id,\n",
    "            a.artist_name\n",
    "        ORDER BY COUNT(to_ranks.artist_id)\n",
    "    ) AS final\n",
    "WHERE rank <= 5\n",
    "ORDER BY fin_rank"
   ]
  }
 ],
 "metadata": {
  "kernelspec": {
   "display_name": "Python 3",
   "language": "python",
   "name": "python3"
  },
  "language_info": {
   "name": "python",
   "version": "3.8.16"
  },
  "orig_nbformat": 4
 },
 "nbformat": 4,
 "nbformat_minor": 2
}

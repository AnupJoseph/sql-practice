{
 "cells": [
  {
   "attachments": {},
   "cell_type": "markdown",
   "metadata": {},
   "source": [
    "## Top 5 Songs\n",
    "\n",
    "Assume there are three Spotify tables containing information about the artists, songs, and music charts. Write a query to determine the top 5 artists whose songs appear in the Top 10 of the `global_song_rank` table the highest number of times. From now on, we'll refer to this ranking number as \"song appearances\".\n",
    "\n",
    "Output the top 5 artist names in ascending order along with their song appearances ranking (not the number of song appearances, but the rank of who has the most appearances). The order of the rank should take precedence.\n",
    "\n",
    "For example, Ed Sheeran's songs appeared 5 times in Top 10 list of the global song rank table; this is the highest number of appearances, so he is ranked 1st. Bad Bunny's songs appeared in the list 4, so he comes in at a close 2nd.\n",
    "\n",
    "Assumptions:\n",
    "\n",
    "* If two artists' songs have the same number of appearances, the artists should have the same rank.\n",
    "* The rank number should be continuous (1, 2, 2, 3, 4, 5) and not skipped (1, 2, 2, 4, 5)."
   ]
  },
  {
   "cell_type": "code",
   "execution_count": null,
   "metadata": {},
   "outputs": [],
   "source": [
    "%sql\n",
    "\n",
    "SELECT artist_name,\n",
    "    6 - rank AS fin_rank\n",
    "FROM(\n",
    "        SELECT a.artist_name,\n",
    "            COUNT(to_ranks.artist_id) AS rank\n",
    "        FROM (\n",
    "                SELECT g.song_id,\n",
    "                    g.rank,\n",
    "                    s.artist_id\n",
    "                FROM global_song_rank AS g\n",
    "                    INNER JOIN songs AS s ON g.song_id = s.song_id\n",
    "                WHERE g.rank <= 10\n",
    "            ) AS to_ranks\n",
    "            INNER JOIN artists AS a ON to_ranks.artist_id = a.artist_id\n",
    "        GROUP BY to_ranks.artist_id,\n",
    "            a.artist_name\n",
    "        ORDER BY COUNT(to_ranks.artist_id)\n",
    "    ) AS final\n",
    "WHERE rank <= 5\n",
    "ORDER BY fin_rank"
   ]
  },
  {
   "cell_type": "markdown",
   "metadata": {},
   "source": []
  }
 ],
 "metadata": {
  "kernelspec": {
   "display_name": "Python 3",
   "language": "python",
   "name": "python3"
  },
  "language_info": {
   "name": "python",
   "version": "3.8.16"
  },
  "orig_nbformat": 4
 },
 "nbformat": 4,
 "nbformat_minor": 2
}
